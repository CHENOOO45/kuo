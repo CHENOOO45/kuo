{
  "nbformat": 4,
  "nbformat_minor": 0,
  "metadata": {
    "colab": {
      "name": "1209-DP.ipynb",
      "provenance": [],
      "authorship_tag": "ABX9TyNkpDhXwdLOPAo6OPKkJq0i",
      "include_colab_link": true
    },
    "kernelspec": {
      "name": "python3",
      "display_name": "Python 3"
    }
  },
  "cells": [
    {
      "cell_type": "markdown",
      "metadata": {
        "id": "view-in-github",
        "colab_type": "text"
      },
      "source": [
        "<a href=\"https://colab.research.google.com/github/CHENOOO45/kuo/blob/master/1209_DP.ipynb\" target=\"_parent\"><img src=\"https://colab.research.google.com/assets/colab-badge.svg\" alt=\"Open In Colab\"/></a>"
      ]
    },
    {
      "cell_type": "code",
      "metadata": {
        "colab": {
          "base_uri": "https://localhost:8080/"
        },
        "id": "18sWKyMMNDTH",
        "outputId": "2114389c-980b-4c90-c317-0a6601668173"
      },
      "source": [
        "def dp(p, n):\r\n",
        "    r = [0]*(n+1)\r\n",
        "    for i in range(1, n+1):\r\n",
        "        if n == 0:\r\n",
        "            return 0\r\n",
        "        q =0\r\n",
        "        for j in range(1, i+1):\r\n",
        "            q = max(q, p[j]+r[i-j])\r\n",
        "            r[i] = q\r\n",
        "            p.append(0)\r\n",
        "    return r[n]\r\n",
        "p=[0,1,5,8,9,10,17,17,20,24,30]\r\n",
        "k=int(input(\"輸入須要切割的長度:\"))\r\n",
        "print(\"可以賣出之最高價:\",dp(p, k))  "
      ],
      "execution_count": 1,
      "outputs": [
        {
          "output_type": "stream",
          "text": [
            "輸入須要切割的長度:10\n",
            "可以賣出之最高價: 30\n"
          ],
          "name": "stdout"
        }
      ]
    }
  ]
}