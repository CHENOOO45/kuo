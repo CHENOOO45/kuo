{
  "nbformat": 4,
  "nbformat_minor": 0,
  "metadata": {
    "colab": {
      "name": "Untitled3.ipynb",
      "provenance": [],
      "authorship_tag": "ABX9TyMC6DJ4TJXpffDW65ZLZ/FG",
      "include_colab_link": true
    },
    "kernelspec": {
      "name": "python3",
      "display_name": "Python 3"
    }
  },
  "cells": [
    {
      "cell_type": "markdown",
      "metadata": {
        "id": "view-in-github",
        "colab_type": "text"
      },
      "source": [
        "<a href=\"https://colab.research.google.com/github/CHENOOO45/kuo/blob/master/10/14%20%E5%9B%9E%E5%AE%B6%E4%BD%9C%E6%A5%AD.ipynb\" target=\"_parent\"><img src=\"https://colab.research.google.com/assets/colab-badge.svg\" alt=\"Open In Colab\"/></a>"
      ]
    },
    {
      "cell_type": "code",
      "metadata": {
        "id": "f56PpfBNMdco",
        "outputId": "724ae946-3c2e-4e2f-f40c-26a658bde071",
        "colab": {
          "base_uri": "https://localhost:8080/",
          "height": 69
        }
      },
      "source": [
        "global a,b\n",
        "a = input()\n",
        "a = int(a)\n",
        "b=a%4\n",
        "print(\"輸入的年份是\",a)\n",
        "if b == 0:\n",
        "  c = a%100\n",
        "  if c == 0:\n",
        "    d = a%400\n",
        "    print(\"該年是閏年\")\n",
        "  else:\n",
        "    print(\"該年不是閏年\") \n",
        "else:\n",
        "  print(\"該年不是閏年\") "
      ],
      "execution_count": 11,
      "outputs": [
        {
          "output_type": "stream",
          "text": [
            "2020\n",
            "輸入的年份是 2020\n",
            "該年不是閏年\n"
          ],
          "name": "stdout"
        }
      ]
    }
  ]
}