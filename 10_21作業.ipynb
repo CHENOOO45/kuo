{
  "nbformat": 4,
  "nbformat_minor": 0,
  "metadata": {
    "colab": {
      "name": "10/21作業.ipynb",
      "provenance": [],
      "authorship_tag": "ABX9TyMn/UC6pnnrGBxY/aHS0E2G",
      "include_colab_link": true
    },
    "kernelspec": {
      "name": "python3",
      "display_name": "Python 3"
    }
  },
  "cells": [
    {
      "cell_type": "markdown",
      "metadata": {
        "id": "view-in-github",
        "colab_type": "text"
      },
      "source": [
        "<a href=\"https://colab.research.google.com/github/CHENOOO45/kuo/blob/master/10_21%E4%BD%9C%E6%A5%AD.ipynb\" target=\"_parent\"><img src=\"https://colab.research.google.com/assets/colab-badge.svg\" alt=\"Open In Colab\"/></a>"
      ]
    },
    {
      "cell_type": "code",
      "metadata": {
        "id": "4_YWuDhuLSM3",
        "outputId": "8838c942-407b-4124-f904-31daa3c20f30",
        "colab": {
          "base_uri": "https://localhost:8080/",
          "height": 312
        }
      },
      "source": [
        "#再雜湊\n",
        "\n",
        "import random\n",
        "indexbox=10\n",
        "maxnum=7\n",
        "n=1\n",
        "def print_data(data,max_number):\n",
        "  print(\"\\t\",end=\"\")\n",
        "  for i in range(max_number):\n",
        "    print(\"[%2d}\"%data[i],end=\"\")\n",
        "  print()\n",
        "\n",
        "def create_table(num,index):\n",
        "  tmp=num%indexbox \n",
        "  n=1 \n",
        "  while True:\n",
        "    if index[tmp]==-1:\n",
        "      index[tmp]=num\n",
        "      break\n",
        "    else:\n",
        "      print(\"碰撞\")\n",
        "      tmp=(tmp+n*3)%indexbox\n",
        "      n+1\n",
        "\n",
        "index=[None]*indexbox\n",
        "data=[None]*maxnum\n",
        "print(\"原始陣列值:\")\n",
        "for i in range(maxnum):\n",
        "  data[i]=random.randint(1,20)\n",
        "for i in range(indexbox):\n",
        "  index[i]=-1\n",
        "print_data(data,maxnum)\n",
        "\n",
        "print(\"雜湊表內容:\")\n",
        "for i in range(maxnum):\n",
        "  create_table(data[i],index)\n",
        "  print(\" %2d =>\"%data[i],end=\"\")\n",
        "  print_data(index,indexbox)\n",
        "print(\"完整雜湊表:\")\n",
        "print_data(index,indexbox)"
      ],
      "execution_count": 4,
      "outputs": [
        {
          "output_type": "stream",
          "text": [
            "原始陣列值:\n",
            "\t[ 8}[11}[ 6}[ 8}[19}[12}[ 6}\n",
            "雜湊表內容:\n",
            "  8 =>\t[-1}[-1}[-1}[-1}[-1}[-1}[-1}[-1}[ 8}[-1}\n",
            " 11 =>\t[-1}[11}[-1}[-1}[-1}[-1}[-1}[-1}[ 8}[-1}\n",
            "  6 =>\t[-1}[11}[-1}[-1}[-1}[-1}[ 6}[-1}[ 8}[-1}\n",
            "碰撞\n",
            "碰撞\n",
            "  8 =>\t[-1}[11}[-1}[-1}[ 8}[-1}[ 6}[-1}[ 8}[-1}\n",
            " 19 =>\t[-1}[11}[-1}[-1}[ 8}[-1}[ 6}[-1}[ 8}[19}\n",
            " 12 =>\t[-1}[11}[12}[-1}[ 8}[-1}[ 6}[-1}[ 8}[19}\n",
            "碰撞\n",
            "碰撞\n",
            "碰撞\n",
            "  6 =>\t[-1}[11}[12}[-1}[ 8}[ 6}[ 6}[-1}[ 8}[19}\n",
            "完整雜湊表:\n",
            "\t[-1}[11}[12}[-1}[ 8}[ 6}[ 6}[-1}[ 8}[19}\n"
          ],
          "name": "stdout"
        }
      ]
    },
    {
      "cell_type": "code",
      "metadata": {
        "id": "DrWwnb3TMS5F",
        "outputId": "1097b157-f243-43ef-b78c-5186523006da",
        "colab": {
          "base_uri": "https://localhost:8080/",
          "height": 260
        }
      },
      "source": [
        "#平方\n",
        "\n",
        "import random\n",
        "indexbox=10\n",
        "maxnum=7\n",
        "\n",
        "def print_data(data,max_number):\n",
        "  print(\"\\t\",end=\"\")\n",
        "  for i in range(max_number):\n",
        "    print(\"[%2d}\"%data[i],end=\"\")\n",
        "  print()\n",
        "\n",
        "def create_table(num,index):\n",
        "  tmp=num%indexbox\n",
        "  n=1\n",
        "  while True:\n",
        "\n",
        "    if index[tmp]==-1:\n",
        "      index[tmp]=num\n",
        "      break\n",
        "    else:\n",
        "      print(\"碰撞\")\n",
        "      tmp=num%indexbox\n",
        "      tmp=(tmp+n*2)%indexbox\n",
        "      n+=1\n",
        "\n",
        "index=[None]*indexbox\n",
        "data=[None]*maxnum\n",
        "print(\"原始陣列值:\")\n",
        "for i in range(maxnum):\n",
        "  data[i]=random.randint(1,20)\n",
        "for i in range(indexbox):\n",
        "  index[i]=-1\n",
        "print_data(data,maxnum)\n",
        "\n",
        "print(\"雜湊表內容:\")\n",
        "for i in range(maxnum):\n",
        "  create_table(data[i],index)\n",
        "  print(\" %2d =>\"%data[i],end=\"\")\n",
        "  print_data(index,indexbox)\n",
        "print(\"完整雜湊表:\")\n",
        "print_data(index,indexbox)"
      ],
      "execution_count": 5,
      "outputs": [
        {
          "output_type": "stream",
          "text": [
            "原始陣列值:\n",
            "\t[10}[12}[ 2}[ 5}[17}[ 1}[ 1}\n",
            "雜湊表內容:\n",
            " 10 =>\t[10}[-1}[-1}[-1}[-1}[-1}[-1}[-1}[-1}[-1}\n",
            " 12 =>\t[10}[-1}[12}[-1}[-1}[-1}[-1}[-1}[-1}[-1}\n",
            "碰撞\n",
            "  2 =>\t[10}[-1}[12}[-1}[ 2}[-1}[-1}[-1}[-1}[-1}\n",
            "  5 =>\t[10}[-1}[12}[-1}[ 2}[ 5}[-1}[-1}[-1}[-1}\n",
            " 17 =>\t[10}[-1}[12}[-1}[ 2}[ 5}[-1}[17}[-1}[-1}\n",
            "  1 =>\t[10}[ 1}[12}[-1}[ 2}[ 5}[-1}[17}[-1}[-1}\n",
            "碰撞\n",
            "  1 =>\t[10}[ 1}[12}[ 1}[ 2}[ 5}[-1}[17}[-1}[-1}\n",
            "完整雜湊表:\n",
            "\t[10}[ 1}[12}[ 1}[ 2}[ 5}[-1}[17}[-1}[-1}\n"
          ],
          "name": "stdout"
        }
      ]
    }
  ]
}