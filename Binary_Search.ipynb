{
  "nbformat": 4,
  "nbformat_minor": 0,
  "metadata": {
    "colab": {
      "name": "Binary Search.ipynb",
      "provenance": [],
      "authorship_tag": "ABX9TyOvcFEtOqgAGmML3DGdx2wn",
      "include_colab_link": true
    },
    "kernelspec": {
      "name": "python3",
      "display_name": "Python 3"
    }
  },
  "cells": [
    {
      "cell_type": "markdown",
      "metadata": {
        "id": "view-in-github",
        "colab_type": "text"
      },
      "source": [
        "<a href=\"https://colab.research.google.com/github/CHENOOO45/kuo/blob/master/Binary_Search.ipynb\" target=\"_parent\"><img src=\"https://colab.research.google.com/assets/colab-badge.svg\" alt=\"Open In Colab\"/></a>"
      ]
    },
    {
      "cell_type": "code",
      "metadata": {
        "id": "8hu7PAaL9Pde",
        "outputId": "ca551427-c890-45e3-9b46-0996174f5958",
        "colab": {
          "base_uri": "https://localhost:8080/",
          "height": 34
        }
      },
      "source": [
        "def binarySearch(arr,l,r,x):\n",
        "  if r >= l:\n",
        "    mid = l+(r-1)//2\n",
        "    if arr[mid] == x:\n",
        "      return mid\n",
        "    elif arr[mid] > x:\n",
        "      return binarySearch(arr,l,mid-1,x)\n",
        "    else:\n",
        "      return binarySearch(arr,mid+1,r,x)\n",
        "  else:\n",
        "    return-1\n",
        "arr = [5,8,9,15,30]\n",
        "x = 9\n",
        "#Function call\n",
        "result = binarySearch(arr,0,len(arr)-1,x)\n",
        "\n",
        "if result != -1:\n",
        "  print(\"元素在所引%d\"%result)\n",
        "else:\n",
        "  print(\"陣列中找不到該元素\")"
      ],
      "execution_count": null,
      "outputs": [
        {
          "output_type": "stream",
          "text": [
            "元素在所引2\n"
          ],
          "name": "stdout"
        }
      ]
    },
    {
      "cell_type": "code",
      "metadata": {
        "id": "hcoSis1DAJZU",
        "outputId": "79c106b2-b34d-4a29-f9f0-412c3f43d6d0",
        "colab": {
          "base_uri": "https://localhost:8080/",
          "height": 187
        }
      },
      "source": [
        "def Bubble_Sort(datas):\n",
        "    for i in range(1, len(datas)): \n",
        "        for j in range(len(datas)-i):   \n",
        "            if datas[j] > datas[j+1]:   \n",
        "                datas[j], datas[j+1] = datas[j+1], datas[j]\n",
        "    return datas\n",
        "\n",
        "def binarySearch(arr, l, r, x):\n",
        "  if r >= l:\n",
        "    mid = l+(r-l)//2\n",
        "    if arr[mid] == x:\n",
        "      return mid\n",
        "    elif arr[mid] > x:\n",
        "      return binarySearch(arr, l, mid-1, x)\n",
        "    else :\n",
        "      return binarySearch(arr, mid+1, r, x)\n",
        "  else:\n",
        "    return -1\n",
        "  \n",
        "import random\n",
        "\n",
        "arr = []                                 #定義陣列\n",
        "gg = []                                   \n",
        "\n",
        "for i in range(5):\n",
        "  arr.append(int(input(\"請輸入五個數字\"))) \n",
        "\n",
        "random.shuffle(arr)                      # 打亂\n",
        "print(arr)\n",
        "\n",
        "gg = Bubble_Sort(arr)                   \n",
        "\n",
        "x = int(input(\"輸入key值\"))\n",
        "\n",
        "print(gg)\n",
        "print(x)\n",
        "\n",
        "#Function call\n",
        "\n",
        "result = binarySearch(gg, 0, len(gg)-1, x)\n",
        "\n",
        "if result != -1 :\n",
        "  print(\"元素在索引 % d\" % result)\n",
        "else :\n",
        "  print(\"陣列中找不到元素\")"
      ],
      "execution_count": 2,
      "outputs": [
        {
          "output_type": "stream",
          "text": [
            "請輸入五個數字5\n",
            "請輸入五個數字6\n",
            "請輸入五個數字9\n",
            "請輸入五個數字8\n",
            "請輸入五個數字1\n",
            "[8, 1, 6, 9, 5]\n",
            "輸入key值2\n",
            "[1, 5, 6, 8, 9]\n",
            "2\n",
            "陣列中找不到元素\n"
          ],
          "name": "stdout"
        }
      ]
    }
  ]
}