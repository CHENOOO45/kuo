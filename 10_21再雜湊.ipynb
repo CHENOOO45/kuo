{
  "nbformat": 4,
  "nbformat_minor": 0,
  "metadata": {
    "colab": {
      "name": "10/21再雜湊.ipynb",
      "provenance": [],
      "authorship_tag": "ABX9TyOLalP6W87NjqetdM7z292y",
      "include_colab_link": true
    },
    "kernelspec": {
      "name": "python3",
      "display_name": "Python 3"
    }
  },
  "cells": [
    {
      "cell_type": "markdown",
      "metadata": {
        "id": "view-in-github",
        "colab_type": "text"
      },
      "source": [
        "<a href=\"https://colab.research.google.com/github/CHENOOO45/kuo/blob/master/10_21%E5%86%8D%E9%9B%9C%E6%B9%8A.ipynb\" target=\"_parent\"><img src=\"https://colab.research.google.com/assets/colab-badge.svg\" alt=\"Open In Colab\"/></a>"
      ]
    },
    {
      "cell_type": "code",
      "metadata": {
        "id": "IKcJ-rERKhWA",
        "outputId": "06f6af71-0a7e-4f90-fb57-3ccd7de03412",
        "colab": {
          "base_uri": "https://localhost:8080/",
          "height": 225
        }
      },
      "source": [
        "import random\n",
        "indexbox=10\n",
        "maxnum=7\n",
        "n=1\n",
        "def print_data(data,max_number):\n",
        "  print(\"\\t\",end=\"\")\n",
        "  for i in range(max_number):\n",
        "    print(\"[%2d}\"%data[i],end=\"\")\n",
        "  print()\n",
        "\n",
        "def create_table(num,index):\n",
        "  tmp=num%indexbox \n",
        "  n=1 \n",
        "  while True:\n",
        "    if index[tmp]==-1:\n",
        "      index[tmp]=num\n",
        "      break\n",
        "    else:\n",
        "      print(\"碰撞\")\n",
        "      tmp=(tmp+n3)%indexbox\n",
        "      n+1\n",
        "\n",
        "index=[None]*indexbox\n",
        "data=[None]*maxnum\n",
        "print(\"原始陣列值:\")\n",
        "for i in range(maxnum):\n",
        "  data[i]=random.randint(1,20)\n",
        "for i in range(indexbox):\n",
        "  index[i]=-1\n",
        "print_data(data,maxnum)\n",
        "\n",
        "print(\"雜湊表內容:\")\n",
        "for i in range(maxnum):\n",
        "  create_table(data[i],index)\n",
        "  print(\" %2d =>\"%data[i],end=\"\")\n",
        "  print_data(index,indexbox)\n",
        "print(\"完整雜湊表:\")\n",
        "print_data(index,indexbox)"
      ],
      "execution_count": 1,
      "outputs": [
        {
          "output_type": "stream",
          "text": [
            "原始陣列值:\n",
            "\t[15}[ 4}[18}[10}[12}[13}[ 9}\n",
            "雜湊表內容:\n",
            " 15 =>\t[-1}[-1}[-1}[-1}[-1}[15}[-1}[-1}[-1}[-1}\n",
            "  4 =>\t[-1}[-1}[-1}[-1}[ 4}[15}[-1}[-1}[-1}[-1}\n",
            " 18 =>\t[-1}[-1}[-1}[-1}[ 4}[15}[-1}[-1}[18}[-1}\n",
            " 10 =>\t[10}[-1}[-1}[-1}[ 4}[15}[-1}[-1}[18}[-1}\n",
            " 12 =>\t[10}[-1}[12}[-1}[ 4}[15}[-1}[-1}[18}[-1}\n",
            " 13 =>\t[10}[-1}[12}[13}[ 4}[15}[-1}[-1}[18}[-1}\n",
            "  9 =>\t[10}[-1}[12}[13}[ 4}[15}[-1}[-1}[18}[ 9}\n",
            "完整雜湊表:\n",
            "\t[10}[-1}[12}[13}[ 4}[15}[-1}[-1}[18}[ 9}\n"
          ],
          "name": "stdout"
        }
      ]
    }
  ]
}