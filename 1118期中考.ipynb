{
  "nbformat": 4,
  "nbformat_minor": 0,
  "metadata": {
    "colab": {
      "name": "1118期中考.ipynb",
      "provenance": [],
      "authorship_tag": "ABX9TyMmlXyjIViIxd3Xe20cwzJU",
      "include_colab_link": true
    },
    "kernelspec": {
      "name": "python3",
      "display_name": "Python 3"
    }
  },
  "cells": [
    {
      "cell_type": "markdown",
      "metadata": {
        "id": "view-in-github",
        "colab_type": "text"
      },
      "source": [
        "<a href=\"https://colab.research.google.com/github/CHENOOO45/kuo/blob/master/1118%E6%9C%9F%E4%B8%AD%E8%80%83.ipynb\" target=\"_parent\"><img src=\"https://colab.research.google.com/assets/colab-badge.svg\" alt=\"Open In Colab\"/></a>"
      ]
    },
    {
      "cell_type": "code",
      "metadata": {
        "colab": {
          "base_uri": "https://localhost:8080/"
        },
        "id": "VboOZK_S3VT-",
        "outputId": "a02b19c4-d053-4216-a038-074ae7fb2d74"
      },
      "source": [
        "#插入排序法\n",
        "#由小到大\n",
        "#匯入 random 套件，用以生成亂數\n",
        "\n",
        "import random\n",
        "\n",
        "def showdata(data):\n",
        "    for i in range(len(data)):\n",
        "        print('%3d' %data[i], end = '')\n",
        "    print()\n",
        "\n",
        "def insert_sort(data):\n",
        "    n = len(data)  #取的資料長度\n",
        "    if n == 1:   #如果只有一個數值就回傳data\n",
        "        return data\n",
        "    for i in range(1,n):\n",
        "        for j in range(i,0,-1):      #從第 i 個位置往回判斷大小\n",
        "            if data[j]<data[j-1]:    #相鄰兩個位置，判斷是否後面的數值小於前面，如是就互換數值\n",
        "                data[j],data[j-1] = data[j-1],data[j]   \n",
        "          \n",
        "            else:   #否則不處理\n",
        "                break\n",
        "        print(' 第 %d 次排序：' %(i), end = '')\n",
        "        showdata(rnds)\n",
        "    return data\n",
        "\n",
        "# 在0到100中隨機生成8個數字\n",
        "rnds = [random.randint(0, 99) for _ in range(8)]\n",
        "\n",
        "#輸出\n",
        "print()\n",
        "print('隨機8個數值：')\n",
        "showdata(rnds)\n",
        "\n",
        "insert_sort(rnds)\n",
        "\n",
        "print('排序後數值：')\n",
        "showdata(rnds)\n",
        "print()\n"
      ],
      "execution_count": 29,
      "outputs": [
        {
          "output_type": "stream",
          "text": [
            "\n",
            "隨機8個數值：\n",
            " 23 75 47 85 36 99 66 83\n",
            " 第 1 次排序： 23 75 47 85 36 99 66 83\n",
            " 第 2 次排序： 23 47 75 85 36 99 66 83\n",
            " 第 3 次排序： 23 47 75 85 36 99 66 83\n",
            " 第 4 次排序： 23 36 47 75 85 99 66 83\n",
            " 第 5 次排序： 23 36 47 75 85 99 66 83\n",
            " 第 6 次排序： 23 36 47 66 75 85 99 83\n",
            " 第 7 次排序： 23 36 47 66 75 83 85 99\n",
            "排序後數值：\n",
            " 23 36 47 66 75 83 85 99\n",
            "\n"
          ],
          "name": "stdout"
        }
      ]
    },
    {
      "cell_type": "code",
      "metadata": {
        "colab": {
          "base_uri": "https://localhost:8080/"
        },
        "id": "Io_6hPHl6lnN",
        "outputId": "0e555306-cd87-4806-f137-88342b671a75"
      },
      "source": [
        "#選擇排序法\n",
        "#由大到小\n",
        "def Selection_Sort(datas): \n",
        "    for i in range(len(datas)-1):               \n",
        "        min = i  \n",
        "        for j in range(i+1, len(datas)):    \n",
        "            if datas[j] > datas[min]:        \n",
        "                min = j              \n",
        " \n",
        "        datas[i], datas[min] = datas[min], datas[i]   \n",
        " \n",
        "        print(datas)           \n",
        "        print('---'*16)           \n",
        "    return datas              \n",
        "     \n",
        "     \n",
        "if __name__ == '__main__': \n",
        "    import random    \n",
        "    b = [] \n",
        "    for i in range(0,8):         #隨機產生8個數字\n",
        "        a = random.randint(0,99) \n",
        "        b += [a] \n",
        "    random.shuffle(b) \n",
        "    print(b) \n",
        "    b = Selection_Sort(b)"
      ],
      "execution_count": 28,
      "outputs": [
        {
          "output_type": "stream",
          "text": [
            "[97, 53, 91, 80, 65, 16, 68, 18]\n",
            "[97, 53, 91, 80, 65, 16, 68, 18]\n",
            "------------------------------------------------\n",
            "[97, 91, 53, 80, 65, 16, 68, 18]\n",
            "------------------------------------------------\n",
            "[97, 91, 80, 53, 65, 16, 68, 18]\n",
            "------------------------------------------------\n",
            "[97, 91, 80, 68, 65, 16, 53, 18]\n",
            "------------------------------------------------\n",
            "[97, 91, 80, 68, 65, 16, 53, 18]\n",
            "------------------------------------------------\n",
            "[97, 91, 80, 68, 65, 53, 16, 18]\n",
            "------------------------------------------------\n",
            "[97, 91, 80, 68, 65, 53, 18, 16]\n",
            "------------------------------------------------\n"
          ],
          "name": "stdout"
        }
      ]
    },
    {
      "cell_type": "markdown",
      "metadata": {
        "id": "_Nodv20iqrho"
      },
      "source": [
        ""
      ]
    }
  ]
}