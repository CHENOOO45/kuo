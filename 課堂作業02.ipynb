{
  "nbformat": 4,
  "nbformat_minor": 0,
  "metadata": {
    "colab": {
      "name": "課堂作業02.ipynb",
      "provenance": [],
      "authorship_tag": "ABX9TyPNx8AJfEDPRC8cwUzlhy4f",
      "include_colab_link": true
    },
    "kernelspec": {
      "name": "python3",
      "display_name": "Python 3"
    }
  },
  "cells": [
    {
      "cell_type": "markdown",
      "metadata": {
        "id": "view-in-github",
        "colab_type": "text"
      },
      "source": [
        "<a href=\"https://colab.research.google.com/github/CHENOOO45/kuo/blob/master/%E8%AA%B2%E5%A0%82%E4%BD%9C%E6%A5%AD02.ipynb\" target=\"_parent\"><img src=\"https://colab.research.google.com/assets/colab-badge.svg\" alt=\"Open In Colab\"/></a>"
      ]
    },
    {
      "cell_type": "code",
      "metadata": {
        "id": "qYwSEekCx3t1",
        "outputId": "cd497814-5566-4112-df18-ae487c21311c",
        "colab": {
          "base_uri": "https://localhost:8080/",
          "height": 34
        }
      },
      "source": [
        "data = [20,31,50,17,16,36,19,8]\n",
        "def sequential_search(data,key):\n",
        "  for i in data:\n",
        "    if i == key :\n",
        "      print(\"找到了\")\n",
        "      break\n",
        "sequential_search(data,17)"
      ],
      "execution_count": 2,
      "outputs": [
        {
          "output_type": "stream",
          "text": [
            "找到了\n"
          ],
          "name": "stdout"
        }
      ]
    },
    {
      "cell_type": "code",
      "metadata": {
        "id": "MSvbi5WV2Aq3",
        "outputId": "b6bdcab2-dd14-4d84-c2f6-8c6dee100fcf",
        "colab": {
          "base_uri": "https://localhost:8080/",
          "height": 34
        }
      },
      "source": [
        "def search(number, des):\n",
        "    tmp = [0] * (len(number) + 1)\n",
        "    for i in range(1, len(number)):\n",
        "        tmp[i] = number[i - 1]\n",
        "    tmp[0] = des\n",
        "    i = len(number)\n",
        "    while tmp[i] != tmp[0]:\n",
        "        i -= 1\n",
        "    return i - 1\n",
        "\n",
        "number = [1, 4, 2, 6, 7, 3, 9, 8]\n",
        "number.sort()\n",
        "find = search(number, 2)\n",
        "print(\"找到數值於索引 \" + str(find) if find >= 0 else \"找不到數值\")\n"
      ],
      "execution_count": 4,
      "outputs": [
        {
          "output_type": "stream",
          "text": [
            "找到數值於索引 1\n"
          ],
          "name": "stdout"
        }
      ]
    }
  ]
}