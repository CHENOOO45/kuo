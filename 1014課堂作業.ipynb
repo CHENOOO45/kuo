{
  "nbformat": 4,
  "nbformat_minor": 0,
  "metadata": {
    "colab": {
      "name": "1014課堂作業.ipynb",
      "provenance": [],
      "authorship_tag": "ABX9TyNyVBaPJfHcGVdCJx28rrvs",
      "include_colab_link": true
    },
    "kernelspec": {
      "name": "python3",
      "display_name": "Python 3"
    }
  },
  "cells": [
    {
      "cell_type": "markdown",
      "metadata": {
        "id": "view-in-github",
        "colab_type": "text"
      },
      "source": [
        "<a href=\"https://colab.research.google.com/github/CHENOOO45/kuo/blob/master/1014%E8%AA%B2%E5%A0%82%E4%BD%9C%E6%A5%AD.ipynb\" target=\"_parent\"><img src=\"https://colab.research.google.com/assets/colab-badge.svg\" alt=\"Open In Colab\"/></a>"
      ]
    },
    {
      "cell_type": "code",
      "metadata": {
        "id": "qYwSEekCx3t1",
        "outputId": "cd497814-5566-4112-df18-ae487c21311c",
        "colab": {
          "base_uri": "https://localhost:8080/",
          "height": 34
        }
      },
      "source": [
        "data = [20,31,50,17,16,36,19,8]\n",
        "def sequential_search(data,key):\n",
        "  for i in data:\n",
        "    if i == key :\n",
        "      print(\"找到了\")\n",
        "      break\n",
        "sequential_search(data,17)"
      ],
      "execution_count": 2,
      "outputs": [
        {
          "output_type": "stream",
          "text": [
            "找到了\n"
          ],
          "name": "stdout"
        }
      ]
    },
    {
      "cell_type": "code",
      "metadata": {
        "id": "MSvbi5WV2Aq3",
        "outputId": "baf79300-3080-4ccc-e8e2-f184b50a116d",
        "colab": {
          "base_uri": "https://localhost:8080/",
          "height": 34
        }
      },
      "source": [
        "def linear_search(values, search_for):\n",
        "    search_at = 0\n",
        "    search_res = False\n",
        "\n",
        "# Match the value with each data element    \n",
        "    while search_at < len(values) and search_res is False:\n",
        "        if values[search_at] == search_for:\n",
        "            search_res = True\n",
        "        else:\n",
        "            search_at = search_at + 1\n",
        "\n",
        "    return search_res\n",
        "\n",
        "l = [66, 17, 25, 12, 22, 11, 99]\n",
        "print(linear_search(l, 17))\n"
      ],
      "execution_count": 28,
      "outputs": [
        {
          "output_type": "stream",
          "text": [
            "True\n"
          ],
          "name": "stdout"
        }
      ]
    }
  ]
}