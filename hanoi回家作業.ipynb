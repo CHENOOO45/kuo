{
  "nbformat": 4,
  "nbformat_minor": 0,
  "metadata": {
    "colab": {
      "name": "hanoi回家作業.ipynb",
      "provenance": [],
      "authorship_tag": "ABX9TyPY3ovyLtIE2HnlWZJvzroW",
      "include_colab_link": true
    },
    "kernelspec": {
      "name": "python3",
      "display_name": "Python 3"
    }
  },
  "cells": [
    {
      "cell_type": "markdown",
      "metadata": {
        "id": "view-in-github",
        "colab_type": "text"
      },
      "source": [
        "<a href=\"https://colab.research.google.com/github/CHENOOO45/kuo/blob/master/hanoi%E5%9B%9E%E5%AE%B6%E4%BD%9C%E6%A5%AD.ipynb\" target=\"_parent\"><img src=\"https://colab.research.google.com/assets/colab-badge.svg\" alt=\"Open In Colab\"/></a>"
      ]
    },
    {
      "cell_type": "code",
      "metadata": {
        "id": "PvOW3PXtjnZ-",
        "outputId": "b8ba720c-6a5a-4514-a25f-c53af7096ac5",
        "colab": {
          "base_uri": "https://localhost:8080/"
        }
      },
      "source": [
        " import random\n",
        "i = random.randint(1,101)\n",
        "a = 100\n",
        "b = 1\n",
        "\n",
        "while True:\n",
        "       \n",
        "        x = input(\"\")\n",
        "        x = int(x)\n",
        "        if x==i:\n",
        "            print(\"恭喜答對ㄌ\")\n",
        "            break\n",
        "        if x<i:\n",
        "            b = x\n",
        "            print(\"範圍縮小到\",b,\"到\",a)\n",
        "        if x>i:\n",
        "            a = x\n",
        "            print(\"範圍縮小到\",b,\"到\",a)"
      ],
      "execution_count": 2,
      "outputs": [
        {
          "output_type": "stream",
          "text": [
            "55\n",
            "範圍縮小到 55 到 100\n",
            "78\n",
            "範圍縮小到 78 到 100\n",
            "84\n",
            "範圍縮小到 78 到 84\n",
            "82\n",
            "範圍縮小到 78 到 82\n",
            "79\n",
            "恭喜答對ㄌ\n"
          ],
          "name": "stdout"
        }
      ]
    },
    {
      "cell_type": "code",
      "metadata": {
        "id": "1W_mcSC4klR8",
        "outputId": "8fda1fa7-729e-4d1c-9845-84ad1cb4865f",
        "colab": {
          "base_uri": "https://localhost:8080/"
        }
      },
      "source": [
        "def hanoi(n, A, B, C):\n",
        "    if n == 1:\n",
        "        print(str(n) + \"號圈：\" + A + \"→\" + C)\n",
        "    else:\n",
        "        hanoi(n-1, A, C, B)\n",
        "        print(str(n) + \"號圈：\" + A + \"→\" + C)\n",
        "        hanoi(n-1, B, A, C)\n",
        "\n",
        "ringNum = int(input(\"請輸入圈圈數：\"))\n",
        "hanoi(ringNum, \"A\", \"B\", \"C\")"
      ],
      "execution_count": 5,
      "outputs": [
        {
          "output_type": "stream",
          "text": [
            "請輸入圈圈數：5\n",
            "1號圈：A→C\n",
            "2號圈：A→B\n",
            "1號圈：C→B\n",
            "3號圈：A→C\n",
            "1號圈：B→A\n",
            "2號圈：B→C\n",
            "1號圈：A→C\n",
            "4號圈：A→B\n",
            "1號圈：C→B\n",
            "2號圈：C→A\n",
            "1號圈：B→A\n",
            "3號圈：C→B\n",
            "1號圈：A→C\n",
            "2號圈：A→B\n",
            "1號圈：C→B\n",
            "5號圈：A→C\n",
            "1號圈：B→A\n",
            "2號圈：B→C\n",
            "1號圈：A→C\n",
            "3號圈：B→A\n",
            "1號圈：C→B\n",
            "2號圈：C→A\n",
            "1號圈：B→A\n",
            "4號圈：B→C\n",
            "1號圈：A→C\n",
            "2號圈：A→B\n",
            "1號圈：C→B\n",
            "3號圈：A→C\n",
            "1號圈：B→A\n",
            "2號圈：B→C\n",
            "1號圈：A→C\n"
          ],
          "name": "stdout"
        }
      ]
    }
  ]
}