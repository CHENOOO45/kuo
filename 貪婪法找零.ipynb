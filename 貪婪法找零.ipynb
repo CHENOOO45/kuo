{
  "nbformat": 4,
  "nbformat_minor": 0,
  "metadata": {
    "colab": {
      "name": "Untitled3.ipynb",
      "provenance": [],
      "authorship_tag": "ABX9TyPtH8Zl+3VncgEmS+n52ub4",
      "include_colab_link": true
    },
    "kernelspec": {
      "name": "python3",
      "display_name": "Python 3"
    }
  },
  "cells": [
    {
      "cell_type": "markdown",
      "metadata": {
        "id": "view-in-github",
        "colab_type": "text"
      },
      "source": [
        "<a href=\"https://colab.research.google.com/github/CHENOOO45/kuo/blob/master/%E8%B2%AA%E5%A9%AA%E6%B3%95%E6%89%BE%E9%9B%B6.ipynb\" target=\"_parent\"><img src=\"https://colab.research.google.com/assets/colab-badge.svg\" alt=\"Open In Colab\"/></a>"
      ]
    },
    {
      "cell_type": "code",
      "metadata": {
        "colab": {
          "base_uri": "https://localhost:8080/"
        },
        "id": "MnjaIdtRLGod",
        "outputId": "1106856a-faca-4371-cfd2-2dd768f841be"
      },
      "source": [
        "#貪婪法面額\n",
        "#t = 面額\n",
        "t = [25,20,5,1]\n",
        "\n",
        "n = input(\"輸入面額\")\n",
        "n = int(n)\n",
        "#n = 多少錢\n",
        "def change(t,n):\n",
        "          m = [0 for _ in range(len(t))]\n",
        "          for i, money in enumerate(t):\n",
        "                    m[i] = n//money\n",
        "                    n = n % money\n",
        "                    print(\"第\",i+1,\"次:\",m)\n",
        "          if n == 0:\n",
        "                   print(\"付完了\") \n",
        "       \n",
        "print(change(t,n))"
      ],
      "execution_count": 1,
      "outputs": [
        {
          "output_type": "stream",
          "text": [
            "輸入面額500\n",
            "第 1 次: [20, 0, 0, 0]\n",
            "第 2 次: [20, 0, 0, 0]\n",
            "第 3 次: [20, 0, 0, 0]\n",
            "第 4 次: [20, 0, 0, 0]\n",
            "付完了\n",
            "None\n"
          ],
          "name": "stdout"
        }
      ]
    }
  ]
}