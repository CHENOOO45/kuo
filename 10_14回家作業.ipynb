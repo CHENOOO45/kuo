{
  "nbformat": 4,
  "nbformat_minor": 0,
  "metadata": {
    "colab": {
      "name": "10.14回家作業.ipynb",
      "provenance": [],
      "authorship_tag": "ABX9TyMk9jXgaEbzU7239NnlYN7k",
      "include_colab_link": true
    },
    "kernelspec": {
      "name": "python3",
      "display_name": "Python 3"
    }
  },
  "cells": [
    {
      "cell_type": "markdown",
      "metadata": {
        "id": "view-in-github",
        "colab_type": "text"
      },
      "source": [
        "<a href=\"https://colab.research.google.com/github/CHENOOO45/kuo/blob/master/10_14%E5%9B%9E%E5%AE%B6%E4%BD%9C%E6%A5%AD.ipynb\" target=\"_parent\"><img src=\"https://colab.research.google.com/assets/colab-badge.svg\" alt=\"Open In Colab\"/></a>"
      ]
    },
    {
      "cell_type": "code",
      "metadata": {
        "id": "TfEr6ewlQQ5p",
        "outputId": "3b3e7b7b-aeab-4938-f707-38a360eedd5e",
        "colab": {
          "base_uri": "https://localhost:8080/",
          "height": 243
        }
      },
      "source": [
        "#year = int(input('請輸入大於1000的年份：'))\n",
        "for year in range(1971,2021):\n",
        "    if (year%4==0 and year%100!=0) or year%400==0:\n",
        "        print(year,'是閏年')"
      ],
      "execution_count": 3,
      "outputs": [
        {
          "output_type": "stream",
          "text": [
            "1972 是閏年\n",
            "1976 是閏年\n",
            "1980 是閏年\n",
            "1984 是閏年\n",
            "1988 是閏年\n",
            "1992 是閏年\n",
            "1996 是閏年\n",
            "2000 是閏年\n",
            "2004 是閏年\n",
            "2008 是閏年\n",
            "2012 是閏年\n",
            "2016 是閏年\n",
            "2020 是閏年\n"
          ],
          "name": "stdout"
        }
      ]
    }
  ]
}