{
  "nbformat": 4,
  "nbformat_minor": 0,
  "metadata": {
    "colab": {
      "name": "HashingSearch.ipynb",
      "provenance": [],
      "authorship_tag": "ABX9TyOWqEV1u26qR6sWkyYmwshc",
      "include_colab_link": true
    },
    "kernelspec": {
      "name": "python3",
      "display_name": "Python 3"
    }
  },
  "cells": [
    {
      "cell_type": "markdown",
      "metadata": {
        "id": "view-in-github",
        "colab_type": "text"
      },
      "source": [
        "<a href=\"https://colab.research.google.com/github/CHENOOO45/kuo/blob/master/HashingSearch.ipynb\" target=\"_parent\"><img src=\"https://colab.research.google.com/assets/colab-badge.svg\" alt=\"Open In Colab\"/></a>"
      ]
    },
    {
      "cell_type": "code",
      "metadata": {
        "id": "c1H5yFNoDzMK",
        "outputId": "65fab609-b238-41ad-b03e-bc015fa23cf1",
        "colab": {
          "base_uri": "https://localhost:8080/",
          "height": 221
        }
      },
      "source": [
        "import random\n",
        "INDEXBOX=10          #雜湊表最大元素\n",
        "MAXNUM=7           #最大資料個數\n",
        "\n",
        "def print_data(data,max_number):    #列印陣列副程式\n",
        "  print(\"\\t\",end=\"\")\n",
        "  for i in range(max_number):\n",
        "    print(\"[%2d]\"%data[i],end=\"\")\n",
        "  print()\n",
        "\n",
        "def create_table(num,index):  \n",
        "  tmp=num%INDEXBOX\n",
        "  while True:\n",
        "    if index[tmp]==-1:\n",
        "      index[tmp]=num\n",
        "      break\n",
        "    else:\n",
        "      tmp=(tmp+1)%INDEXBOX\n",
        "#Main\n",
        "index=[None]*INDEXBOX\n",
        "data=[None]*MAXNUM\n",
        "\n",
        "print(\"原始陣列值:\")         #起始資料值\n",
        "for i in range(MAXNUM):\n",
        "  data[i]=random.randint(1,20)\n",
        "for i in range(INDEXBOX):     #清除雜湊表\n",
        "  index[i]=-1\n",
        "print_data(data,MAXNUM)        #列印起始資料\n",
        "\n",
        "print(\"雜湊表內容:\")\n",
        "for i in range(MAXNUM):      #建立雜湊表\n",
        "  create_table(data[i],index)\n",
        "  print(\"%2d=>\"%data[i],end=\"\")    #列印單一元素的雜湊表位置\n",
        "  print_data(index,INDEXBOX)\n",
        "\n",
        "print(\"完成雜湊表:\")\n",
        "print_data(index,INDEXBOX)   #列印最後完成結果"
      ],
      "execution_count": 3,
      "outputs": [
        {
          "output_type": "stream",
          "text": [
            "原始陣列值:\n",
            "\t[13][ 3][20][ 4][ 8][11][16]\n",
            "雜湊表內容:\n",
            "13=>\t[-1][-1][-1][13][-1][-1][-1][-1][-1][-1]\n",
            " 3=>\t[-1][-1][-1][13][ 3][-1][-1][-1][-1][-1]\n",
            "20=>\t[20][-1][-1][13][ 3][-1][-1][-1][-1][-1]\n",
            " 4=>\t[20][-1][-1][13][ 3][ 4][-1][-1][-1][-1]\n",
            " 8=>\t[20][-1][-1][13][ 3][ 4][-1][-1][ 8][-1]\n",
            "11=>\t[20][11][-1][13][ 3][ 4][-1][-1][ 8][-1]\n",
            "16=>\t[20][11][-1][13][ 3][ 4][16][-1][ 8][-1]\n",
            "完成雜湊表:\n",
            "\t[20][11][-1][13][ 3][ 4][16][-1][ 8][-1]\n"
          ],
          "name": "stdout"
        }
      ]
    }
  ]
}