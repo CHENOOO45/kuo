{
  "nbformat": 4,
  "nbformat_minor": 0,
  "metadata": {
    "colab": {
      "name": "Linear Search.ipynb",
      "provenance": [],
      "authorship_tag": "ABX9TyNhVQp/xDwC0jJzSq5CvIzh",
      "include_colab_link": true
    },
    "kernelspec": {
      "name": "python3",
      "display_name": "Python 3"
    }
  },
  "cells": [
    {
      "cell_type": "markdown",
      "metadata": {
        "id": "view-in-github",
        "colab_type": "text"
      },
      "source": [
        "<a href=\"https://colab.research.google.com/github/CHENOOO45/kuo/blob/master/Linear_Search.ipynb\" target=\"_parent\"><img src=\"https://colab.research.google.com/assets/colab-badge.svg\" alt=\"Open In Colab\"/></a>"
      ]
    },
    {
      "cell_type": "code",
      "metadata": {
        "id": "qYwSEekCx3t1",
        "outputId": "cd497814-5566-4112-df18-ae487c21311c",
        "colab": {
          "base_uri": "https://localhost:8080/",
          "height": 34
        }
      },
      "source": [
        "data = [20,31,50,17,16,36,19,8]\n",
        "def sequential_search(data,key):\n",
        "  for i in data:\n",
        "    if i == key :\n",
        "      print(\"找到了\")\n",
        "      break\n",
        "sequential_search(data,17)"
      ],
      "execution_count": null,
      "outputs": [
        {
          "output_type": "stream",
          "text": [
            "找到了\n"
          ],
          "name": "stdout"
        }
      ]
    },
    {
      "cell_type": "code",
      "metadata": {
        "id": "MSvbi5WV2Aq3",
        "outputId": "95d9f804-dd3d-4c70-b6f7-5cfc0ce9d0c3",
        "colab": {
          "base_uri": "https://localhost:8080/",
          "height": 35
        }
      },
      "source": [
        "def linear_search(values, search_for):  #(陣列，要找的數)\n",
        "    search_at = 0          #value陣列的index一開始先設0\n",
        "    search_res = False        #搜尋結果設定為False\n",
        "\n",
        "# Match the value with each data element    \n",
        "    while search_at < len(values) and search_res is False:  #用whileloop如果index小於values陣列長度+結果False=繼續loop\n",
        "        if values[search_at] == search_for:\n",
        "            search_res = True          #如果找到，結果設True\n",
        "        else:\n",
        "            search_at = search_at + 1     #沒找到index+1\n",
        "\n",
        "    return search_res\n",
        "\n",
        "l = [66, 17, 25, 12, 22, 11, 99]\n",
        "print(linear_search(l, 17))\n"
      ],
      "execution_count": 1,
      "outputs": [
        {
          "output_type": "stream",
          "text": [
            "True\n"
          ],
          "name": "stdout"
        }
      ]
    }
  ]
}